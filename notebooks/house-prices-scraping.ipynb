{
 "cells": [
  {
   "cell_type": "markdown",
   "metadata": {},
   "source": [
    "### House price scraping \n",
    "\n",
    "In this notebook I'm going to scrap data from the site [imali](http://www.imali.biz/cat---22-24-this---.html) , it contains data about houses price in rwanda. I will be using [this tutorial](https://realpython.com/python-web-scraping-practical-introduction/#setting-up-your-python-web-scraper) from real python and anyother document I will find on internet.\n"
   ]
  },
  {
   "cell_type": "code",
   "execution_count": 4,
   "metadata": {},
   "outputs": [],
   "source": [
    "from requests import get\n",
    "from requests.exceptions import RequestException\n",
    "from contextlib import closing\n",
    "from bs4 import BeautifulSoup"
   ]
  },
  {
   "cell_type": "markdown",
   "metadata": {},
   "source": [
    "#### Utilties functions \n",
    "\n",
    "This function try to make a simple request but in a better way "
   ]
  },
  {
   "cell_type": "code",
   "execution_count": 5,
   "metadata": {},
   "outputs": [],
   "source": [
    "def simple_get(url):\n",
    "    \"\"\"\n",
    "    Attempts to get the content at `url` by making an HTTP GET request.\n",
    "    If the content-type of response is some kind of HTML/XML, return the\n",
    "    text content, otherwise return None.\n",
    "    \"\"\"\n",
    "    try:\n",
    "        with closing(get(url, stream=True)) as resp:\n",
    "            if is_good_response(resp):\n",
    "                return resp.content\n",
    "            else:\n",
    "                return None\n",
    "\n",
    "    except RequestException as e:\n",
    "        log_error('Error during requests to {0} : {1}'.format(url, str(e)))\n",
    "        return None"
   ]
  },
  {
   "cell_type": "code",
   "execution_count": 6,
   "metadata": {},
   "outputs": [],
   "source": [
    "def is_good_response(resp):\n",
    "    \"\"\"\n",
    "    Returns True if the response seems to be HTML, False otherwise.\n",
    "    \"\"\"\n",
    "    content_type = resp.headers.get('Content-Type').lower()\n",
    "    return (resp.status_code == 200 \n",
    "            and content_type is not None \n",
    "            and content_type.find('html') > -1)"
   ]
  },
  {
   "cell_type": "code",
   "execution_count": 7,
   "metadata": {},
   "outputs": [],
   "source": [
    "def log_error(e):\n",
    "    \"\"\"\n",
    "    It is always a good idea to log errors. \n",
    "    This function just prints them, but you can\n",
    "    make it do anything.\n",
    "    \"\"\"\n",
    "    print(e)"
   ]
  },
  {
   "cell_type": "markdown",
   "metadata": {},
   "source": [
    "let us try to get something from a webpage."
   ]
  },
  {
   "cell_type": "code",
   "execution_count": 40,
   "metadata": {
    "scrolled": false
   },
   "outputs": [],
   "source": [
    "raw_html = simple_get('http://www.imali.biz/cat---22-24-this---.html')"
   ]
  },
  {
   "cell_type": "markdown",
   "metadata": {},
   "source": [
    "basically the website has a main div containing a list of house for rent or for sale, my first task will be to open the div and get the content from the li."
   ]
  },
  {
   "cell_type": "markdown",
   "metadata": {},
   "source": [
    "let try this with beautifull soup"
   ]
  },
  {
   "cell_type": "code",
   "execution_count": 41,
   "metadata": {},
   "outputs": [],
   "source": [
    "html = BeautifulSoup(raw_html, 'html.parser')"
   ]
  },
  {
   "cell_type": "markdown",
   "metadata": {},
   "source": [
    "Let get the div with the id and look for the ul inside that div"
   ]
  },
  {
   "cell_type": "code",
   "execution_count": 46,
   "metadata": {
    "scrolled": false
   },
   "outputs": [],
   "source": [
    "all_houses_div = html.find(id=\"annBySectionResponseDiv\")"
   ]
  },
  {
   "cell_type": "markdown",
   "metadata": {},
   "source": [
    "let get the li and see if I can read info inside"
   ]
  },
  {
   "cell_type": "code",
   "execution_count": 65,
   "metadata": {},
   "outputs": [],
   "source": [
    "def get_houses():\n",
    "    \"\"\"\n",
    "    Downloads the page where all the house are found \n",
    "    and returns a list of all houses in one page\n",
    "    \"\"\"\n",
    "    url = 'http://www.imali.biz/cat---22-24-this---.html'\n",
    "    response = simple_get(url)\n",
    "\n",
    "    if response:\n",
    "        html = BeautifulSoup(response, 'html.parser')\n",
    "        all_houses_div = html.find(id=\"annBySectionResponseDiv\")\n",
    "        return all_houses_div.find_all('li')\n",
    "    # Raise an exception if we failed to get any data from the url\n",
    "    raise Exception('Error retrieving contents at {}'.format(url))"
   ]
  },
  {
   "cell_type": "code",
   "execution_count": 66,
   "metadata": {
    "scrolled": false
   },
   "outputs": [],
   "source": [
    "houses = get_houses()"
   ]
  },
  {
   "cell_type": "markdown",
   "metadata": {},
   "source": [
    "Here is how look a simple li elment with the house information...\n"
   ]
  },
  {
   "cell_type": "code",
   "execution_count": 70,
   "metadata": {},
   "outputs": [
    {
     "data": {
      "text/plain": [
       "<li><a href=\"announce-24-78821.html\" title=\"KICUKIRO HOUSE FOR SALE AT KICUKIRO\"><img alt=\"\" src=\"Im_img/Im_Announces_img/Im_mini_main_img/kwdSDxU.jpg\"/></a><span class=\"Ann_Section\"><a href=\"announce-24-78821.html\" title=\"KICUKIRO HOUSE FOR SALE AT KICUKIRO\">Houses for sale</a></span><span class=\"Ann_Price\">55 000 000 Rwf</span><span class=\"Ann_City\">kigali kicukiro</span><span class=\"Ann_Date\">26-Jan-2019</span></li>"
      ]
     },
     "execution_count": 70,
     "metadata": {},
     "output_type": "execute_result"
    }
   ],
   "source": [
    "houses[0]"
   ]
  },
  {
   "cell_type": "code",
   "execution_count": null,
   "metadata": {},
   "outputs": [],
   "source": [
    "Form this div I can get the title of the announce, details if it is for sale or for rent , the price , and the place where the house is located"
   ]
  }
 ],
 "metadata": {
  "kernelspec": {
   "display_name": "Python 3",
   "language": "python",
   "name": "python3"
  },
  "language_info": {
   "codemirror_mode": {
    "name": "ipython",
    "version": 3
   },
   "file_extension": ".py",
   "mimetype": "text/x-python",
   "name": "python",
   "nbconvert_exporter": "python",
   "pygments_lexer": "ipython3",
   "version": "3.6.5"
  }
 },
 "nbformat": 4,
 "nbformat_minor": 2
}
